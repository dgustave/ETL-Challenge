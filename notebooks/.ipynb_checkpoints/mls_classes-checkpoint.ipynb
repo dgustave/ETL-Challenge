{
 "cells": [
  {
   "cell_type": "code",
   "execution_count": null,
   "metadata": {},
   "outputs": [],
   "source": [
    "from sqlalchemy import create_engine, Column, Integer, String\n",
    "from sqlalchemy.ext.declarative import declarative_base\n",
    "Base = declarative_base()"
   ]
  },
  {
   "cell_type": "code",
   "execution_count": null,
   "metadata": {},
   "outputs": [],
   "source": [
    "# Define our pet table\n",
    "class League(Base):\n",
    "    __tablename__ = 'league'\n",
    "    club_id = Column(Integer, primary_key=True)\n",
    "    Ranking = Column(Integer)\n",
    "    Squad = Column(String(30))\n",
    "    Matches Played = Column(Integer)\n",
    "    Wins = Column(Integer)\n",
    "    Draws = Column(Integer)\n",
    "    Losses = Column(Integer)\n",
    "    Goals For = Column(Integer)\n",
    "    Goals Against = Column(Integer)\n",
    "    Goal Differential = Column(Integer)\n",
    "    Tota1 Points = Column(Integer)\n",
    "    Expected Goals = Column(Float)\n",
    "    Expected Goals Allowed = Column(Float)\n",
    "    Expected Goals Differiential = Column(Float)\n",
    "    Expected Goals Differiential/ 90 (mins) = Column(Float)\n",
    "    Attendance (# of fans) = Column(Integer)\n",
    "    Top Team Scorer = Column(String(30))\n",
    "    Goalkeeper = Column(String(30))\n",
    "    Conference = Column(String(30))\n",
    "    Club = Column(String(30))"
   ]
  },
  {
   "cell_type": "code",
   "execution_count": null,
   "metadata": {},
   "outputs": [],
   "source": []
  }
 ],
 "metadata": {
  "kernelspec": {
   "display_name": "",
   "name": ""
  },
  "language_info": {
   "name": ""
  }
 },
 "nbformat": 4,
 "nbformat_minor": 4
}
